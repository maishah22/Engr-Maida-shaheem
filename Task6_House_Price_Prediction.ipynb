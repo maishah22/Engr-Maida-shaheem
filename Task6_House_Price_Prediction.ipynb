{
 "cells": [
  {
   "cell_type": "markdown",
   "id": "07b2d5fa",
   "metadata": {},
   "source": [
    "# Task 6 — House Price Prediction (Regression)\n",
    "\n",
    "This notebook predicts house prices from tabular features using **Gradient Boosting**.\n",
    "\n",
    "**Dataset:** Use a Kaggle-style `housing.csv` (or similar with columns like `price`, `sqft_living`, `bedrooms`, `bathrooms`, `lat`, `long`, etc.). Place the file next to this notebook.\n",
    "\n",
    "**How to run (locally):**\n",
    "1. Download a house price dataset (e.g., *House Sales in King County, USA*).\n",
    "2. Put the CSV in the same folder (rename to `housing.csv` or adjust the path below).\n",
    "3. Install requirements: `pip install scikit-learn matplotlib pandas numpy`\n",
    "4. Run all cells.\n",
    "\n",
    "**Metrics:** MAE and RMSE, plus a predicted vs. actual plot.\n"
   ]
  },
  {
   "cell_type": "code",
   "execution_count": null,
   "id": "85d33667",
   "metadata": {},
   "outputs": [],
   "source": [
    "# Imports\n",
    "import pandas as pd\n",
    "import numpy as np\n",
    "import matplotlib.pyplot as plt\n",
    "from sklearn.model_selection import train_test_split\n",
    "from sklearn.metrics import mean_absolute_error, mean_squared_error\n",
    "from sklearn.preprocessing import StandardScaler\n",
    "from sklearn.ensemble import GradientBoostingRegressor\n",
    "\n",
    "pd.set_option('display.max_columns', None)"
   ]
  },
  {
   "cell_type": "code",
   "execution_count": null,
   "id": "be828b29",
   "metadata": {},
   "outputs": [],
   "source": [
    "# Load data (expects 'housing.csv' in the same directory)\n",
    "df = pd.read_csv('housing.csv')\n",
    "print('Shape:', df.shape)\n",
    "df.head()"
   ]
  },
  {
   "cell_type": "code",
   "execution_count": null,
   "id": "95f6908f",
   "metadata": {},
   "outputs": [],
   "source": [
    "# Basic cleaning: drop obvious non-numeric identifiers if present\n",
    "drop_cols = [c for c in ['id','date'] if c in df.columns]\n",
    "df = df.drop(columns=drop_cols)\n",
    "\n",
    "# Handle missing values (simple strategy)\n",
    "df = df.dropna()\n",
    "df.describe()"
   ]
  },
  {
   "cell_type": "code",
   "execution_count": null,
   "id": "d846b203",
   "metadata": {},
   "outputs": [],
   "source": [
    "# Define target and features\n",
    "target = 'price'  # adjust if your CSV uses a different target name\n",
    "X = df.drop(columns=[target])\n",
    "y = df[target]\n",
    "\n",
    "X_train, X_test, y_train, y_test = train_test_split(X, y, test_size=0.2, random_state=42)\n",
    "\n",
    "# Some models benefit from scaling; Gradient Boosting is tree-based and doesn't require it, but we'll keep numeric consistency\n",
    "gb = GradientBoostingRegressor(random_state=42)\n",
    "gb.fit(X_train, y_train)\n",
    "preds = gb.predict(X_test)\n",
    "\n",
    "mae = mean_absolute_error(y_test, preds)\n",
    "rmse = mean_squared_error(y_test, preds, squared=False)\n",
    "print('MAE:', mae)\n",
    "print('RMSE:', rmse)"
   ]
  },
  {
   "cell_type": "code",
   "execution_count": null,
   "id": "4daae689",
   "metadata": {},
   "outputs": [],
   "source": [
    "# Plot Predicted vs Actual\n",
    "plt.figure()\n",
    "plt.scatter(y_test, preds)\n",
    "plt.xlabel('Actual Price')\n",
    "plt.ylabel('Predicted Price')\n",
    "plt.title('Predicted vs Actual House Prices')\n",
    "plt.show()"
   ]
  },
  {
   "cell_type": "code",
   "execution_count": null,
   "id": "0264d1e1",
   "metadata": {},
   "outputs": [],
   "source": [
    "# Feature Importances (if columns are numeric)\n",
    "if hasattr(gb, 'feature_importances_'):\n",
    "    importances = pd.Series(gb.feature_importances_, index=X.columns).sort_values(ascending=False)\n",
    "    print(importances.head(15))\n",
    "else:\n",
    "    print('Model does not expose feature_importances_.')"
   ]
  },
  {
   "cell_type": "markdown",
   "id": "1d7767e5",
   "metadata": {},
   "source": [
    "## Notes & Next Steps\n",
    "- Try **XGBoost** or **LightGBM** for stronger performance.\n",
    "- Engineer features like price per sqft, age of house, and neighborhood encodings.\n"
   ]
  }
 ],
 "metadata": {
  "kernelspec": {
   "display_name": "Python 3",
   "language": "python",
   "name": "python3"
  },
  "language_info": {
   "name": "python"
  }
 },
 "nbformat": 4,
 "nbformat_minor": 5
}
