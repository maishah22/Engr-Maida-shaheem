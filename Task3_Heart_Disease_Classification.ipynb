{
 "cells": [
  {
   "cell_type": "markdown",
   "id": "11a5f75a",
   "metadata": {},
   "source": [
    "# Task 3 — Heart Disease Prediction (Classification)\n",
    "\n",
    "This notebook trains a classifier to predict risk of heart disease from tabular health data.\n",
    "\n",
    "**Dataset:** Use the widely-used Kaggle/UCI-style `heart.csv` (303 rows). Place the file next to this notebook.\n",
    "\n",
    "**How to run (locally):**\n",
    "1. Download `heart.csv` (e.g., from Kaggle's *Heart Disease UCI* dataset).\n",
    "2. Put `heart.csv` in the same folder as this notebook.\n",
    "3. Install requirements: `pip install scikit-learn matplotlib pandas`\n",
    "4. Run all cells.\n",
    "\n",
    "**Metrics:** Accuracy, Confusion Matrix, ROC Curve, and feature importances.\n"
   ]
  },
  {
   "cell_type": "code",
   "execution_count": null,
   "id": "b34f84a5",
   "metadata": {},
   "outputs": [],
   "source": [
    "# Imports\n",
    "import pandas as pd\n",
    "import numpy as np\n",
    "import matplotlib.pyplot as plt\n",
    "from sklearn.model_selection import train_test_split\n",
    "from sklearn.preprocessing import StandardScaler\n",
    "from sklearn.metrics import accuracy_score, roc_auc_score, roc_curve, confusion_matrix\n",
    "from sklearn.linear_model import LogisticRegression\n",
    "from sklearn.tree import DecisionTreeClassifier\n",
    "\n",
    "pd.set_option('display.max_columns', None)"
   ]
  },
  {
   "cell_type": "code",
   "execution_count": null,
   "id": "cd74de5a",
   "metadata": {},
   "outputs": [],
   "source": [
    "# Load data (expects 'heart.csv' in the same directory)\n",
    "df = pd.read_csv('heart.csv')\n",
    "print('Shape:', df.shape)\n",
    "df.head()"
   ]
  },
  {
   "cell_type": "code",
   "execution_count": null,
   "id": "120a0899",
   "metadata": {},
   "outputs": [],
   "source": [
    "# Basic EDA\n",
    "display(df.info())\n",
    "display(df.describe())\n",
    "print('Missing values per column:')\n",
    "print(df.isna().sum())"
   ]
  },
  {
   "cell_type": "code",
   "execution_count": null,
   "id": "e40fd216",
   "metadata": {},
   "outputs": [],
   "source": [
    "# Train/Test split\n",
    "target_col = 'target'  # adjust if your file uses a different name\n",
    "X = df.drop(columns=[target_col])\n",
    "y = df[target_col]\n",
    "X_train, X_test, y_train, y_test = train_test_split(X, y, test_size=0.2, random_state=42, stratify=y)\n",
    "\n",
    "# Scale numeric features for Logistic Regression\n",
    "scaler = StandardScaler()\n",
    "X_train_scaled = scaler.fit_transform(X_train)\n",
    "X_test_scaled = scaler.transform(X_test)\n",
    "\n",
    "# Model 1: Logistic Regression\n",
    "logreg = LogisticRegression(max_iter=200, n_jobs=None)\n",
    "logreg.fit(X_train_scaled, y_train)\n",
    "proba_lr = logreg.predict_proba(X_test_scaled)[:,1]\n",
    "pred_lr = (proba_lr >= 0.5).astype(int)\n",
    "acc_lr = accuracy_score(y_test, pred_lr)\n",
    "roc_lr = roc_auc_score(y_test, proba_lr)\n",
    "print('Logistic Regression -> Accuracy:', acc_lr, 'ROC-AUC:', roc_lr)\n",
    "\n",
    "# Model 2: Decision Tree\n",
    "tree = DecisionTreeClassifier(max_depth=4, random_state=42)\n",
    "tree.fit(X_train, y_train)\n",
    "proba_tree = tree.predict_proba(X_test)[:,1]\n",
    "pred_tree = (proba_tree >= 0.5).astype(int)\n",
    "acc_tree = accuracy_score(y_test, pred_tree)\n",
    "roc_tree = roc_auc_score(y_test, proba_tree)\n",
    "print('Decision Tree -> Accuracy:', acc_tree, 'ROC-AUC:', roc_tree)"
   ]
  },
  {
   "cell_type": "code",
   "execution_count": null,
   "id": "3f7669cd",
   "metadata": {},
   "outputs": [],
   "source": [
    "# Confusion Matrix (best model based on ROC-AUC)\n",
    "best_proba = proba_lr if roc_lr >= roc_tree else proba_tree\n",
    "best_pred = pred_lr if roc_lr >= roc_tree else pred_tree\n",
    "cm = confusion_matrix(y_test, best_pred)\n",
    "print('Confusion Matrix:\\n', cm)"
   ]
  },
  {
   "cell_type": "code",
   "execution_count": null,
   "id": "9b2f0e1e",
   "metadata": {},
   "outputs": [],
   "source": [
    "# ROC Curve (best model)\n",
    "fpr, tpr, thr = roc_curve(y_test, best_proba)\n",
    "plt.figure()\n",
    "plt.plot(fpr, tpr, label='ROC')\n",
    "plt.plot([0,1],[0,1],'--', label='Chance')\n",
    "plt.xlabel('False Positive Rate')\n",
    "plt.ylabel('True Positive Rate')\n",
    "plt.title('ROC Curve')\n",
    "plt.legend()\n",
    "plt.show()"
   ]
  },
  {
   "cell_type": "code",
   "execution_count": null,
   "id": "63218840",
   "metadata": {},
   "outputs": [],
   "source": [
    "# Feature Importance: logistic regression coefficients & decision tree importances\n",
    "feat_names = X.columns\n",
    "coef_series = pd.Series(logreg.coef_[0], index=feat_names).sort_values(key=abs, ascending=False)\n",
    "imp_series = pd.Series(tree.feature_importances_, index=feat_names).sort_values(ascending=False)\n",
    "\n",
    "print('Top Logistic Regression coefficients (absolute):\\n', coef_series.head(10))\n",
    "print('\\nDecision Tree importances:\\n', imp_series.head(10))"
   ]
  },
  {
   "cell_type": "markdown",
   "id": "4bdfa7ab",
   "metadata": {},
   "source": [
    "## Insights\n",
    "- Compare ROC-AUC between logistic regression and decision tree; pick the better one.\n",
    "- Review top coefficients/importances to understand influential features.\n"
   ]
  }
 ],
 "metadata": {
  "kernelspec": {
   "display_name": "Python 3",
   "language": "python",
   "name": "python3"
  },
  "language_info": {
   "name": "python"
  }
 },
 "nbformat": 4,
 "nbformat_minor": 5
}
