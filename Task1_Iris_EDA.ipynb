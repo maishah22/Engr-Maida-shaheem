{
 "cells": [
  {
   "cell_type": "markdown",
   "id": "3400ba76",
   "metadata": {},
   "source": [
    "# Task 1 — Exploring and Visualizing a Simple Dataset (Iris)\n",
    "\n",
    "This notebook fulfills **Task 1** from the DevelopersHub Internship tasks. It uses scikit-learn's built-in Iris dataset (works offline) to:\n",
    "\n",
    "1. Load the dataset with pandas\n",
    "2. Show shape, columns, head, `.info()`, `.describe()`\n",
    "3. Visualize scatter plots, histograms, and box plots (using **matplotlib only**, no seaborn)\n",
    "\n",
    "**Skills practiced:** data loading, descriptive statistics, and basic visualization.\n"
   ]
  },
  {
   "cell_type": "code",
   "execution_count": null,
   "id": "f75c85fd",
   "metadata": {},
   "outputs": [],
   "source": [
    "# Imports (matplotlib only for plots)\n",
    "import pandas as pd\n",
    "import numpy as np\n",
    "from sklearn.datasets import load_iris\n",
    "import matplotlib.pyplot as plt\n",
    "\n",
    "# Do not set styles or colors explicitly per instructions.\n"
   ]
  },
  {
   "cell_type": "code",
   "execution_count": null,
   "id": "1d50eca0",
   "metadata": {},
   "outputs": [],
   "source": [
    "# Load Iris dataset\n",
    "iris = load_iris(as_frame=True)\n",
    "df = iris.frame\n",
    "df.rename(columns={'target': 'species_id'}, inplace=True)\n",
    "df['species'] = df['species_id'].map(dict(enumerate(iris.target_names)))\n",
    "df.head()"
   ]
  },
  {
   "cell_type": "code",
   "execution_count": null,
   "id": "7b2f1b2d",
   "metadata": {},
   "outputs": [],
   "source": [
    "# Basic info\n",
    "print('Shape:', df.shape)\n",
    "print('Columns:', list(df.columns))\n",
    "display(df.head())\n",
    "display(df.info())\n",
    "display(df.describe())"
   ]
  },
  {
   "cell_type": "code",
   "execution_count": null,
   "id": "68515925",
   "metadata": {},
   "outputs": [],
   "source": [
    "# Scatter plot: sepal_length vs sepal_width\n",
    "plt.figure()\n",
    "for sp in df['species'].unique():\n",
    "    sub = df[df['species'] == sp]\n",
    "    plt.scatter(sub['sepal length (cm)'], sub['sepal width (cm)'], label=sp)\n",
    "plt.xlabel('sepal length (cm)')\n",
    "plt.ylabel('sepal width (cm)')\n",
    "plt.title('Iris: Sepal Length vs Sepal Width')\n",
    "plt.legend()\n",
    "plt.show()"
   ]
  },
  {
   "cell_type": "code",
   "execution_count": null,
   "id": "0a161c8a",
   "metadata": {},
   "outputs": [],
   "source": [
    "# Histograms for each numeric column\n",
    "numeric_cols = df.select_dtypes(include=[np.number]).columns\n",
    "for col in numeric_cols:\n",
    "    plt.figure()\n",
    "    df[col].hist(bins=20)\n",
    "    plt.xlabel(col)\n",
    "    plt.ylabel('Frequency')\n",
    "    plt.title(f'Histogram of {col}')\n",
    "    plt.show()"
   ]
  },
  {
   "cell_type": "code",
   "execution_count": null,
   "id": "2166386f",
   "metadata": {},
   "outputs": [],
   "source": [
    "# Box plots for numeric columns grouped by species\n",
    "for col in ['sepal length (cm)', 'sepal width (cm)', 'petal length (cm)', 'petal width (cm)']:\n",
    "    plt.figure()\n",
    "    data = [df[df['species']==sp][col].values for sp in df['species'].unique()]\n",
    "    plt.boxplot(data, labels=df['species'].unique())\n",
    "    plt.ylabel(col)\n",
    "    plt.title(f'Box Plot of {col} by Species')\n",
    "    plt.show()"
   ]
  },
  {
   "cell_type": "markdown",
   "id": "ba4f5423",
   "metadata": {},
   "source": [
    "## Notes & Insights\n",
    "- Setosa typically has smaller petal lengths and widths, making it separable in feature space.\n",
    "- Overlapping distributions between Versicolor and Virginica may require more advanced models for perfect separation.\n"
   ]
  }
 ],
 "metadata": {
  "kernelspec": {
   "display_name": "Python 3",
   "language": "python",
   "name": "python3"
  },
  "language_info": {
   "name": "python"
  }
 },
 "nbformat": 4,
 "nbformat_minor": 5
}
