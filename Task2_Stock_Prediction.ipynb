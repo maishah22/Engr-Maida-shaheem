{
 "cells": [
  {
   "cell_type": "markdown",
   "id": "cfc87a9a",
   "metadata": {},
   "source": [
    "# Task 2 — Predict Future Stock Prices (Short-Term)\n",
    "\n",
    "This notebook uses `yfinance` to fetch historical data and trains a **Linear Regression** model to predict the **next day's closing price**.\n",
    "\n",
    "**How to run (locally):**\n",
    "1. Install requirements: `pip install yfinance scikit-learn matplotlib pandas`\n",
    "2. Choose a ticker (e.g., `AAPL`)\n",
    "3. Run all cells.\n",
    "\n",
    "**Skills practiced:** time series handling, regression modeling, API data fetching, and plotting predictions vs. real data.\n"
   ]
  },
  {
   "cell_type": "code",
   "execution_count": null,
   "id": "6b68deac",
   "metadata": {},
   "outputs": [],
   "source": [
    "# Imports\n",
    "import pandas as pd\n",
    "import numpy as np\n",
    "import matplotlib.pyplot as plt\n",
    "from sklearn.linear_model import LinearRegression\n",
    "from sklearn.metrics import mean_absolute_error, r2_score\n",
    "from sklearn.model_selection import train_test_split\n",
    "import yfinance as yf\n"
   ]
  },
  {
   "cell_type": "code",
   "execution_count": null,
   "id": "387a0e7f",
   "metadata": {},
   "outputs": [],
   "source": [
    "# Parameters\n",
    "TICKER = 'AAPL'  # change to e.g., 'TSLA', 'MSFT'\n",
    "PERIOD = '3y'    # last 3 years\n",
    "INTERVAL = '1d'\n"
   ]
  },
  {
   "cell_type": "code",
   "execution_count": null,
   "id": "b882fb81",
   "metadata": {},
   "outputs": [],
   "source": [
    "# Fetch data\n",
    "data = yf.download(TICKER, period=PERIOD, interval=INTERVAL)\n",
    "data = data.dropna()\n",
    "data.head()"
   ]
  },
  {
   "cell_type": "code",
   "execution_count": null,
   "id": "a474a081",
   "metadata": {},
   "outputs": [],
   "source": [
    "# Create supervised learning target: next day's Close\n",
    "df = data[['Open','High','Low','Close','Volume']].copy()\n",
    "df['Close_next'] = df['Close'].shift(-1)\n",
    "df = df.dropna()\n",
    "\n",
    "X = df[['Open','High','Low','Volume']]\n",
    "y = df['Close_next']\n",
    "\n",
    "X_train, X_test, y_train, y_test = train_test_split(X, y, test_size=0.2, shuffle=False)\n",
    "\n",
    "model = LinearRegression()\n",
    "model.fit(X_train, y_train)\n",
    "preds = model.predict(X_test)\n",
    "\n",
    "mae = mean_absolute_error(y_test, preds)\n",
    "r2 = r2_score(y_test, preds)\n",
    "print('MAE:', mae)\n",
    "print('R^2:', r2)"
   ]
  },
  {
   "cell_type": "code",
   "execution_count": null,
   "id": "61321567",
   "metadata": {},
   "outputs": [],
   "source": [
    "# Plot actual vs predicted closing prices (test set)\n",
    "plt.figure()\n",
    "plt.plot(y_test.values, label='Actual')\n",
    "plt.plot(preds, label='Predicted')\n",
    "plt.title(f'{TICKER}: Actual vs Predicted Next-Day Close')\n",
    "plt.xlabel('Test Sample Index')\n",
    "plt.ylabel('Price')\n",
    "plt.legend()\n",
    "plt.show()"
   ]
  },
  {
   "cell_type": "markdown",
   "id": "a66b4bd2",
   "metadata": {},
   "source": [
    "## Notes & Next Steps\n",
    "- Try a **RandomForestRegressor** or **GradientBoostingRegressor** for potentially better performance.\n",
    "- Add lag features (e.g., previous 3-day returns) and technical indicators.\n"
   ]
  }
 ],
 "metadata": {
  "kernelspec": {
   "display_name": "Python 3",
   "language": "python",
   "name": "python3"
  },
  "language_info": {
   "name": "python"
  }
 },
 "nbformat": 4,
 "nbformat_minor": 5
}
